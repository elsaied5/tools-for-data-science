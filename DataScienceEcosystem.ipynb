{
 "cells": [
  {
   "cell_type": "markdown",
   "id": "3e4eb16a-fb0f-42ee-92ec-a6fda518340f",
   "metadata": {},
   "source": [
    "# Data Science Tools and Ecosystem"
   ]
  },
  {
   "cell_type": "markdown",
   "id": "6b4c8802-9d7b-4cdd-83d4-2ea747ba72ba",
   "metadata": {},
   "source": [
    "In this notebook, Data Science Tools and Ecosystem are summarized."
   ]
  },
  {
   "cell_type": "markdown",
   "id": "306e06b4-0b2f-4acf-8b96-a873f11c87fa",
   "metadata": {},
   "source": [
    "**Objectives:**\n",
    "<ul>\n",
    "    <li> List some of the popular languages used in data science</li>\n",
    "    <li> List some of the popular languages used in data science</li>    \n",
    "    <li>listed some data science popular tools</li>\n",
    "    <li> List some of the everyday used libraries for data science</li>\n",
    "</ul>e.\r\n"
   ]
  },
  {
   "cell_type": "markdown",
   "id": "ef5b93a1-aad1-464f-beba-dd1113ee7f68",
   "metadata": {},
   "source": [
    "Some of the popular languages that Data Scientists use are:\n",
    "\n",
    "\n",
    "1-python \n",
    "\n",
    "\n",
    "2-R  \n",
    "\n",
    "\n",
    "3-matlab"
   ]
  },
  {
   "cell_type": "markdown",
   "id": "da75535e-d613-4193-b9f9-dd54ed1e30cc",
   "metadata": {},
   "source": [
    "Some of the commonly used libraries used by Data Scientists include: \n",
    "\n",
    "1- numpy\n",
    "\n",
    "\n",
    "2- pandas\n",
    "\n",
    "\n",
    "3- matplotlib\n",
    "\n",
    "\n",
    "4- seaborn"
   ]
  },
  {
   "cell_type": "markdown",
   "id": "93b0d3b8-8486-4736-b494-5dbe4f566803",
   "metadata": {},
   "source": [
    "| Data Science Tools| \n",
    "|---|\n",
    "| VS code|\n",
    "| jupyter notebook  |\n",
    "| pycharm community edition |\n",
    "\n",
    "<caption>this is  data science tools table</caption>\n"
   ]
  },
  {
   "cell_type": "markdown",
   "id": "0d164a6e-b1dc-4aab-9639-8a40efecc559",
   "metadata": {},
   "source": [
    "### Below are a few examples of evaluating arithmetic expressions in Python"
   ]
  },
  {
   "cell_type": "code",
   "execution_count": 7,
   "id": "e5348c8f-e3e6-47c4-8764-73f44c9067e2",
   "metadata": {},
   "outputs": [
    {
     "data": {
      "text/plain": [
       "17"
      ]
     },
     "execution_count": 7,
     "metadata": {},
     "output_type": "execute_result"
    }
   ],
   "source": [
    "(3*4)+5 # This a simple arithmetic expression to mutiply then add integers"
   ]
  },
  {
   "cell_type": "code",
   "execution_count": 8,
   "id": "0bf8e9eb-4acb-44bf-acf7-3d3bd0921f32",
   "metadata": {},
   "outputs": [
    {
     "data": {
      "text/plain": [
       "3.3333333333333335"
      ]
     },
     "execution_count": 8,
     "metadata": {},
     "output_type": "execute_result"
    }
   ],
   "source": [
    "200 / 60 #  This will convert 200 minutes to hours by diving by 60"
   ]
  },
  {
   "cell_type": "markdown",
   "id": "f504a111-451e-4ad7-a69f-7fa214d8747e",
   "metadata": {},
   "source": [
    "## Author\n",
    "Elsayed Mohamed "
   ]
  },
  {
   "cell_type": "code",
   "execution_count": null,
   "id": "9788bd27-5e5c-4758-8add-ecef85e2343c",
   "metadata": {},
   "outputs": [],
   "source": []
  }
 ],
 "metadata": {
  "kernelspec": {
   "display_name": "Python 3 (ipykernel)",
   "language": "python",
   "name": "python3"
  },
  "language_info": {
   "codemirror_mode": {
    "name": "ipython",
    "version": 3
   },
   "file_extension": ".py",
   "mimetype": "text/x-python",
   "name": "python",
   "nbconvert_exporter": "python",
   "pygments_lexer": "ipython3",
   "version": "3.11.5"
  }
 },
 "nbformat": 4,
 "nbformat_minor": 5
}
